{
 "cells": [
  {
   "cell_type": "markdown",
   "metadata": {},
   "source": [
    "# Feature Analysis and Visualization - Balabit Challenge\n",
    "\n",
    "#### Author: Subhojeet Pramanik\n",
    "\n",
    "Analyse different different features that can be used for further machine learning models. The identified features must have the following properties.\n",
    "\n",
    "- The features must have high information entropy. In simple words they must be able to describe the user's individuality\n",
    "- The previous plots did not compare how related each user is to the other. There should be a plot that can plot the individual user as a single point in 2 dimensional space.\n",
    "\n",
    "In order to address the above problems we will make use of the PCA plot. We will find features specific to each user and use PCA to tranform it to two dimensions. "
   ]
  },
  {
   "cell_type": "code",
   "execution_count": 64,
   "metadata": {},
   "outputs": [],
   "source": [
    "import pandas as pd\n",
    "import numpy as np\n",
    "import os \n",
    "import glob\n",
    "import seaborn as sns\n",
    "import matplotlib.pyplot as plt\n",
    "from sklearn.preprocessing import StandardScaler\n",
    "from sklearn.decomposition import PCA\n",
    "from scipy.spatial.distance import cdist\n",
    "from sklearn.cluster import KMeans\n",
    "%matplotlib inline"
   ]
  },
  {
   "cell_type": "code",
   "execution_count": 3,
   "metadata": {},
   "outputs": [],
   "source": [
    "data_dir='../data/training_files/'"
   ]
  },
  {
   "cell_type": "code",
   "execution_count": 4,
   "metadata": {},
   "outputs": [],
   "source": [
    "user_names=glob.glob(os.path.join(data_dir,'*'))"
   ]
  },
  {
   "cell_type": "code",
   "execution_count": 5,
   "metadata": {},
   "outputs": [
    {
     "data": {
      "text/plain": [
       "['../data/training_files/user7',\n",
       " '../data/training_files/user29',\n",
       " '../data/training_files/user16',\n",
       " '../data/training_files/user35',\n",
       " '../data/training_files/user21',\n",
       " '../data/training_files/user9',\n",
       " '../data/training_files/user12',\n",
       " '../data/training_files/user23',\n",
       " '../data/training_files/user20',\n",
       " '../data/training_files/user15']"
      ]
     },
     "execution_count": 5,
     "metadata": {},
     "output_type": "execute_result"
    }
   ],
   "source": [
    "user_names"
   ]
  },
  {
   "cell_type": "code",
   "execution_count": 6,
   "metadata": {},
   "outputs": [],
   "source": [
    "files_dict={}\n",
    "for u in user_names:\n",
    "    files_dict[os.path.basename(u)]=glob.glob(os.path.join(u,'*'))"
   ]
  },
  {
   "cell_type": "code",
   "execution_count": 7,
   "metadata": {},
   "outputs": [
    {
     "data": {
      "text/plain": [
       "10"
      ]
     },
     "execution_count": 7,
     "metadata": {},
     "output_type": "execute_result"
    }
   ],
   "source": [
    "len(files_dict.values())"
   ]
  },
  {
   "cell_type": "code",
   "execution_count": 8,
   "metadata": {},
   "outputs": [],
   "source": [
    "final_df=pd.DataFrame()\n",
    "for u in user_names:\n",
    "    files=files_dict[os.path.basename(u)]\n",
    "    for f in files:\n",
    "        csv=pd.read_csv(f)\n",
    "        csv['user']=os.path.basename(u)\n",
    "        csv['session']=os.path.basename(f)\n",
    "        final_df=pd.concat([final_df,csv],ignore_index=True)"
   ]
  },
  {
   "cell_type": "code",
   "execution_count": 9,
   "metadata": {},
   "outputs": [
    {
     "data": {
      "text/html": [
       "<div>\n",
       "<style scoped>\n",
       "    .dataframe tbody tr th:only-of-type {\n",
       "        vertical-align: middle;\n",
       "    }\n",
       "\n",
       "    .dataframe tbody tr th {\n",
       "        vertical-align: top;\n",
       "    }\n",
       "\n",
       "    .dataframe thead th {\n",
       "        text-align: right;\n",
       "    }\n",
       "</style>\n",
       "<table border=\"1\" class=\"dataframe\">\n",
       "  <thead>\n",
       "    <tr style=\"text-align: right;\">\n",
       "      <th></th>\n",
       "      <th>record timestamp</th>\n",
       "      <th>client timestamp</th>\n",
       "      <th>button</th>\n",
       "      <th>state</th>\n",
       "      <th>x</th>\n",
       "      <th>y</th>\n",
       "      <th>user</th>\n",
       "      <th>session</th>\n",
       "    </tr>\n",
       "  </thead>\n",
       "  <tbody>\n",
       "    <tr>\n",
       "      <th>0</th>\n",
       "      <td>0.0</td>\n",
       "      <td>0.000</td>\n",
       "      <td>NoButton</td>\n",
       "      <td>Move</td>\n",
       "      <td>561</td>\n",
       "      <td>468</td>\n",
       "      <td>user7</td>\n",
       "      <td>session_9017095287</td>\n",
       "    </tr>\n",
       "    <tr>\n",
       "      <th>1</th>\n",
       "      <td>0.0</td>\n",
       "      <td>0.015</td>\n",
       "      <td>NoButton</td>\n",
       "      <td>Move</td>\n",
       "      <td>552</td>\n",
       "      <td>461</td>\n",
       "      <td>user7</td>\n",
       "      <td>session_9017095287</td>\n",
       "    </tr>\n",
       "    <tr>\n",
       "      <th>2</th>\n",
       "      <td>0.0</td>\n",
       "      <td>0.031</td>\n",
       "      <td>NoButton</td>\n",
       "      <td>Move</td>\n",
       "      <td>541</td>\n",
       "      <td>456</td>\n",
       "      <td>user7</td>\n",
       "      <td>session_9017095287</td>\n",
       "    </tr>\n",
       "    <tr>\n",
       "      <th>3</th>\n",
       "      <td>0.0</td>\n",
       "      <td>0.047</td>\n",
       "      <td>NoButton</td>\n",
       "      <td>Move</td>\n",
       "      <td>519</td>\n",
       "      <td>447</td>\n",
       "      <td>user7</td>\n",
       "      <td>session_9017095287</td>\n",
       "    </tr>\n",
       "    <tr>\n",
       "      <th>4</th>\n",
       "      <td>0.0</td>\n",
       "      <td>0.062</td>\n",
       "      <td>NoButton</td>\n",
       "      <td>Move</td>\n",
       "      <td>486</td>\n",
       "      <td>443</td>\n",
       "      <td>user7</td>\n",
       "      <td>session_9017095287</td>\n",
       "    </tr>\n",
       "  </tbody>\n",
       "</table>\n",
       "</div>"
      ],
      "text/plain": [
       "   record timestamp  client timestamp    button state    x    y   user  \\\n",
       "0               0.0             0.000  NoButton  Move  561  468  user7   \n",
       "1               0.0             0.015  NoButton  Move  552  461  user7   \n",
       "2               0.0             0.031  NoButton  Move  541  456  user7   \n",
       "3               0.0             0.047  NoButton  Move  519  447  user7   \n",
       "4               0.0             0.062  NoButton  Move  486  443  user7   \n",
       "\n",
       "              session  \n",
       "0  session_9017095287  \n",
       "1  session_9017095287  \n",
       "2  session_9017095287  \n",
       "3  session_9017095287  \n",
       "4  session_9017095287  "
      ]
     },
     "execution_count": 9,
     "metadata": {},
     "output_type": "execute_result"
    }
   ],
   "source": [
    "final_df.head()"
   ]
  },
  {
   "cell_type": "code",
   "execution_count": 10,
   "metadata": {},
   "outputs": [
    {
     "data": {
      "text/plain": [
       "(2253816, 8)"
      ]
     },
     "execution_count": 10,
     "metadata": {},
     "output_type": "execute_result"
    }
   ],
   "source": [
    "final_df.shape"
   ]
  },
  {
   "cell_type": "markdown",
   "metadata": {},
   "source": [
    "## Find features that will denote the user's individuality"
   ]
  },
  {
   "cell_type": "code",
   "execution_count": 37,
   "metadata": {},
   "outputs": [],
   "source": [
    "features=[]\n",
    "user_names=pd.Series.unique(final_df['user'])\n",
    "for u in user_names:\n",
    "    feature=[]\n",
    "    df=final_df[final_df['user']==u]\n",
    "    feature.append(df['x'].mean())\n",
    "    feature.append(df['y'].mean())\n",
    "    feature.append(df['x'].std())\n",
    "    feature.append(df['y'].std())\n",
    "    features.append(feature)\n",
    "features=np.stack(features)"
   ]
  },
  {
   "cell_type": "code",
   "execution_count": 38,
   "metadata": {},
   "outputs": [
    {
     "name": "stdout",
     "output_type": "stream",
     "text": [
      "4\n",
      "4\n",
      "4\n",
      "4\n",
      "4\n",
      "4\n",
      "4\n",
      "4\n",
      "4\n",
      "4\n"
     ]
    }
   ],
   "source": [
    "for f in features:\n",
    "    print(len(f))"
   ]
  },
  {
   "cell_type": "code",
   "execution_count": 39,
   "metadata": {},
   "outputs": [],
   "source": [
    "scaler=StandardScaler()\n",
    "features=scaler.fit_transform(features)"
   ]
  },
  {
   "cell_type": "code",
   "execution_count": 42,
   "metadata": {},
   "outputs": [],
   "source": [
    "pca=PCA(n_components=2)"
   ]
  },
  {
   "cell_type": "code",
   "execution_count": 43,
   "metadata": {},
   "outputs": [],
   "source": [
    "two_d=pca.fit_transform(features)"
   ]
  },
  {
   "cell_type": "code",
   "execution_count": 60,
   "metadata": {},
   "outputs": [
    {
     "data": {
      "image/png": "[encoded data removed]",
      "text/plain": [
       "<Figure size 1332x756 with 1 Axes>"
      ]
     },
     "metadata": {},
     "output_type": "display_data"
    }
   ],
   "source": [
    "fig, ax = plt.subplots()\n",
    "\n",
    "fig.set_size_inches(18.5, 10.5)\n",
    "ax.scatter(two_d[:,0],two_d[:,1])\n",
    "ax.set_title(\"Plot  showing individual users as a 2D scatter\")\n",
    "\n",
    "for i, txt in enumerate(user_names):\n",
    "    ax.annotate(txt, (two_d[i,0],two_d[i,1]))\n"
   ]
  },
  {
   "cell_type": "markdown",
   "metadata": {},
   "source": [
    "** We can see from the plot that most user's are spatially seperated which is what is expected for a mouse dynamics dataset. These features can be further user for the user authentication using mouse dynamics **"
   ]
  },
  {
   "cell_type": "markdown",
   "metadata": {},
   "source": [
    "## Clustering the Users"
   ]
  },
  {
   "cell_type": "markdown",
   "metadata": {},
   "source": [
    "** Try to identify the best possible number of clusters using elbow method. **"
   ]
  },
  {
   "cell_type": "code",
   "execution_count": 62,
   "metadata": {},
   "outputs": [],
   "source": [
    "k_val=range(1,10)"
   ]
  },
  {
   "cell_type": "code",
   "execution_count": 66,
   "metadata": {},
   "outputs": [],
   "source": [
    "cluster_vals=range(1,11)\n",
    "distortions=[]\n",
    "for c in cluster_vals:\n",
    "    kmeans=KMeans(n_clusters=c)\n",
    "    cluster_index=kmeans.fit_predict(features)\n",
    "    distortions.append(sum(np.min(cdist(features, kmeans.cluster_centers_, 'euclidean'), axis=1))/features.shape[0])"
   ]
  },
  {
   "cell_type": "code",
   "execution_count": 67,
   "metadata": {},
   "outputs": [
    {
     "data": {
      "image/png": "[encoded data removed]",
      "text/plain": [
       "<Figure size 432x288 with 1 Axes>"
      ]
     },
     "metadata": {},
     "output_type": "display_data"
    }
   ],
   "source": [
    "plt.xticks(cluster_vals)\n",
    "plt.plot(cluster_vals,distortions,'bx-')\n",
    "plt.xlabel('k')\n",
    "plt.ylabel('Distortion')\n",
    "plt.title('The Elbow Method showing the optimal k')\n",
    "plt.show()"
   ]
  },
  {
   "cell_type": "markdown",
   "metadata": {},
   "source": [
    "** We have an elbow at K=3. Let's try to plot the same using 3 different colors **"
   ]
  },
  {
   "cell_type": "code",
   "execution_count": 70,
   "metadata": {},
   "outputs": [],
   "source": [
    "kmeans=KMeans(n_clusters=3)\n",
    "cluster_index=kmeans.fit_predict(features)"
   ]
  },
  {
   "cell_type": "code",
   "execution_count": 80,
   "metadata": {},
   "outputs": [
    {
     "data": {
      "image/png": "[encoded data removed]",
      "text/plain": [
       "<Figure size 1332x756 with 1 Axes>"
      ]
     },
     "metadata": {},
     "output_type": "display_data"
    }
   ],
   "source": [
    "fig, ax = plt.subplots()\n",
    "\n",
    "fig.set_size_inches(18.5, 10.5)\n",
    "ax.scatter(two_d[:,0],two_d[:,1],c=cluster_index,marker='o',s=200)\n",
    "ax.set_title(\"Plot  showing individual users as a 2D scatter\")\n",
    "for i, txt in enumerate(user_names):\n",
    "    ax.annotate(txt, (two_d[i,0],two_d[i,1]))\n"
   ]
  },
  {
   "cell_type": "markdown",
   "metadata": {},
   "source": [
    "** Three distinct colors individually show the best possible identified cluster's in the data. Also the user name is annotated near each plot **"
   ]
  }
 ],
 "metadata": {
  "kernelspec": {
   "display_name": "Python 3",
   "language": "python",
   "name": "python3"
  },
  "language_info": {
   "codemirror_mode": {
    "name": "ipython",
    "version": 3
   },
   "file_extension": ".py",
   "mimetype": "text/x-python",
   "name": "python",
   "nbconvert_exporter": "python",
   "pygments_lexer": "ipython3",
   "version": "3.6.4"
  }
 },
 "nbformat": 4,
 "nbformat_minor": 2
}
